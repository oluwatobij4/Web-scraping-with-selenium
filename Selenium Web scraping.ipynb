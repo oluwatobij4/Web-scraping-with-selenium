{
 "cells": [
  {
   "cell_type": "code",
   "execution_count": 1,
   "id": "e9803784",
   "metadata": {},
   "outputs": [],
   "source": [
    "#import necessary libraries\n",
    "from selenium import webdriver\n",
    "from selenium.webdriver.common.by import By\n",
    "from selenium.webdriver.support.ui import WebDriverWait\n",
    "from selenium.webdriver.support import expected_conditions as EC\n",
    "from selenium.common.exceptions import TimeoutException\n",
    "from selenium.webdriver.remote.webelement import WebElement\n",
    "from selenium.webdriver.support.wait import WebDriverWait\n",
    "from selenium.webdriver.common.keys import Keys\n",
    "from selenium.webdriver.chrome.options import Options\n",
    "from selenium_move_cursor.MouseActions import move_to_element_chrome\n",
    "import time\n",
    "import pandas as pd         #to save CSV file\n",
    "from bs4 import BeautifulSoup\n"
   ]
  },
  {
   "cell_type": "code",
   "execution_count": 2,
   "id": "b218cdf7",
   "metadata": {},
   "outputs": [],
   "source": [
    "#import warnings\n",
    "import warnings\n",
    "warnings.filterwarnings('ignore')\n",
    "\n",
    "#chrome webdriver option\n",
    "options = webdriver.ChromeOptions()\n",
    "options.add_argument('--headless')\n",
    "time.sleep(7)\n",
    "\n",
    "#intialize webdriver, load web pages and click dropdown button\n",
    "path = r'C:\\Users\\INVENTARIT\\pictures\\chromedriver.exe'\n",
    "driver = webdriver.Chrome(path)\n",
    "\n",
    "driver.get('https://www.doordash.com/food-delivery/san-diego-ca-restaurants/')\n",
    "\n",
    "element=driver.find_element_by_class_name('StoreCard_iconContainer___4kCr3')\n",
    "time.sleep(7)\n",
    "element.click()\n",
    "driver.implicitly_wait(20)"
   ]
  },
  {
   "cell_type": "code",
   "execution_count": 3,
   "id": "f9bd0d6f",
   "metadata": {},
   "outputs": [],
   "source": [
    "#parse with Beautifulsoup\n",
    "result = driver.page_source\n",
    "soup = BeautifulSoup(result, 'html.parser')\n",
    "page =  list(soup.findAll('div', class_=\"StoreCard_root___1p3uN\"))"
   ]
  },
  {
   "cell_type": "code",
   "execution_count": 4,
   "id": "746f85f1",
   "metadata": {},
   "outputs": [],
   "source": [
    "#define lists\n",
    "ea = []\n",
    "fa = []\n",
    "ga= []\n",
    "ha = []\n",
    "lb = []"
   ]
  },
  {
   "cell_type": "code",
   "execution_count": 5,
   "id": "9178a896",
   "metadata": {},
   "outputs": [],
   "source": [
    "#loop over stores and scrape details\n",
    "for i in page:\n",
    "    ea.append(i.find(\"h2\", {\"class\": \"StoreCard_storeTitle___1tIOi\"}).get_text().strip()) #name\n",
    "    fa.append(i.find(\"p\", {\"StoreCard_storeInfo___3EpLG\"}).get_text().strip()) #store info\n",
    "    if i.find(\"p\", {\"StoreCard_storeReviews___8EiRe\"}) is None: #rating\n",
    "              ga.append('None')\n",
    "    else:\n",
    "              ga.append(i.find(\"p\", {\"StoreCard_storeReviews___8EiRe\"}).get_text().strip())\n",
    "    ha.append(i.findAll(\"h3\", {\"StoreCard_itemTitle___2d6RQ\"})) #menu\n",
    "   \n",
    "\n",
    "    lb.append(i.findAll(\"div\", {\"StoreCard_itemPrice___1_VKq\"})) #price"
   ]
  },
  {
   "cell_type": "code",
   "execution_count": 6,
   "id": "16265ced",
   "metadata": {},
   "outputs": [],
   "source": [
    "df = pd.DataFrame({'Restaurant':ea, 'Location_and_type': fa, 'Rating': ga}) #ist dataframe"
   ]
  },
  {
   "cell_type": "code",
   "execution_count": 7,
   "id": "0b79e310",
   "metadata": {},
   "outputs": [],
   "source": [
    "#create data frame for nested list of Menu and price\n",
    "gf = pd.DataFrame(ha)\n",
    "ef = pd.DataFrame(lb)"
   ]
  },
  {
   "cell_type": "code",
   "execution_count": 8,
   "id": "b195afd5",
   "metadata": {},
   "outputs": [],
   "source": [
    "#function to get text of Menu and price\n",
    "def my_fun(x, var1):\n",
    "    if (x[var1]) is None :\n",
    "       x[var1] = 'None'\n",
    "    else:\n",
    "        x[var1]= x[var1].get_text()\n",
    "    return x    "
   ]
  },
  {
   "cell_type": "code",
   "execution_count": 9,
   "id": "66bb1050",
   "metadata": {},
   "outputs": [],
   "source": [
    "#apply function to Menu df\n",
    "gf.apply(lambda x: my_fun(x,0), axis=1)\n",
    "gf.apply(lambda x: my_fun(x,1), axis=1)\n",
    "gf.apply(lambda x: my_fun(x,2), axis=1)\n",
    "gf['Menu'] = gf[gf.columns[0:]].apply(\n",
    "lambda x: ','.join(x.dropna().astype(str)),axis=1)\n",
    "gf = gf.drop([0,1,2], axis = 1)\n"
   ]
  },
  {
   "cell_type": "code",
   "execution_count": 10,
   "id": "5b4fa3ec",
   "metadata": {},
   "outputs": [],
   "source": [
    "#merge Menu df with first df containing Restaurant, location and rating\n",
    "Newdf = df.merge(gf, left_index=True, right_index=True)"
   ]
  },
  {
   "cell_type": "code",
   "execution_count": 11,
   "id": "06570a2b",
   "metadata": {},
   "outputs": [],
   "source": [
    "#apply function to price df\n",
    "ef.apply(lambda x: my_fun(x,0), axis=1)\n",
    "ef.apply(lambda x: my_fun(x,1), axis=1)\n",
    "ef.apply(lambda x: my_fun(x,2), axis=1)\n",
    "ef['Price'] = ef[ef.columns[0:]].apply(\n",
    "lambda x: ','.join(x.dropna().astype(str)),axis=1)\n",
    "ef = ef.drop([0,1,2], axis = 1)\n"
   ]
  },
  {
   "cell_type": "code",
   "execution_count": 12,
   "id": "8b567142",
   "metadata": {},
   "outputs": [],
   "source": [
    "#merge price df to Newdf for the final dataframe\n",
    "finaldf = Newdf.merge(ef, left_index=True, right_index=True)"
   ]
  },
  {
   "cell_type": "code",
   "execution_count": 13,
   "id": "6e978726",
   "metadata": {},
   "outputs": [
    {
     "data": {
      "text/html": [
       "<div>\n",
       "<style scoped>\n",
       "    .dataframe tbody tr th:only-of-type {\n",
       "        vertical-align: middle;\n",
       "    }\n",
       "\n",
       "    .dataframe tbody tr th {\n",
       "        vertical-align: top;\n",
       "    }\n",
       "\n",
       "    .dataframe thead th {\n",
       "        text-align: right;\n",
       "    }\n",
       "</style>\n",
       "<table border=\"1\" class=\"dataframe\">\n",
       "  <thead>\n",
       "    <tr style=\"text-align: right;\">\n",
       "      <th></th>\n",
       "      <th>Restaurant</th>\n",
       "      <th>Location_and_type</th>\n",
       "      <th>Rating</th>\n",
       "      <th>Menu</th>\n",
       "      <th>Price</th>\n",
       "    </tr>\n",
       "  </thead>\n",
       "  <tbody>\n",
       "    <tr>\n",
       "      <th>0</th>\n",
       "      <td>DashMart</td>\n",
       "      <td>San Diego • Convenience Store • $</td>\n",
       "      <td>543 ratings</td>\n",
       "      <td>None,None,None</td>\n",
       "      <td>None,None,None</td>\n",
       "    </tr>\n",
       "    <tr>\n",
       "      <th>1</th>\n",
       "      <td>The Melt</td>\n",
       "      <td>San Diego • American • $</td>\n",
       "      <td>4.81,675 ratings</td>\n",
       "      <td>BBQ Bacon Meltburger,BBQ Bacon Chicken,Impossi...</td>\n",
       "      <td>$12.49,$12.49,$17.49</td>\n",
       "    </tr>\n",
       "    <tr>\n",
       "      <th>2</th>\n",
       "      <td>Alfredo’s Pizzeria &amp; Restaurant</td>\n",
       "      <td>San Diego • Italian • $$</td>\n",
       "      <td>4.829 ratings</td>\n",
       "      <td>Mozzarella Sticks (2Pcs),French Fries,None</td>\n",
       "      <td>$9.99,$4.99,None</td>\n",
       "    </tr>\n",
       "    <tr>\n",
       "      <th>3</th>\n",
       "      <td>The Cheesecake Factory</td>\n",
       "      <td>San Diego • Dessert • $$</td>\n",
       "      <td>4.85,571+ ratings</td>\n",
       "      <td>Pineapple Moscow Mule,Ultimate Margarita,Passi...</td>\n",
       "      <td>$24.00,$24.00,$24.00</td>\n",
       "    </tr>\n",
       "    <tr>\n",
       "      <th>4</th>\n",
       "      <td>Colima's Mexican Food</td>\n",
       "      <td>San Diego • Latin American • $</td>\n",
       "      <td>4.75,883+ ratings</td>\n",
       "      <td>None,None,None</td>\n",
       "      <td>None,None,None</td>\n",
       "    </tr>\n",
       "  </tbody>\n",
       "</table>\n",
       "</div>"
      ],
      "text/plain": [
       "                        Restaurant                  Location_and_type  \\\n",
       "0                         DashMart  San Diego • Convenience Store • $   \n",
       "1                         The Melt           San Diego • American • $   \n",
       "2  Alfredo’s Pizzeria & Restaurant           San Diego • Italian • $$   \n",
       "3           The Cheesecake Factory           San Diego • Dessert • $$   \n",
       "4            Colima's Mexican Food     San Diego • Latin American • $   \n",
       "\n",
       "              Rating                                               Menu  \\\n",
       "0        543 ratings                                     None,None,None   \n",
       "1   4.81,675 ratings  BBQ Bacon Meltburger,BBQ Bacon Chicken,Impossi...   \n",
       "2      4.829 ratings         Mozzarella Sticks (2Pcs),French Fries,None   \n",
       "3  4.85,571+ ratings  Pineapple Moscow Mule,Ultimate Margarita,Passi...   \n",
       "4  4.75,883+ ratings                                     None,None,None   \n",
       "\n",
       "                  Price  \n",
       "0        None,None,None  \n",
       "1  $12.49,$12.49,$17.49  \n",
       "2      $9.99,$4.99,None  \n",
       "3  $24.00,$24.00,$24.00  \n",
       "4        None,None,None  "
      ]
     },
     "execution_count": 13,
     "metadata": {},
     "output_type": "execute_result"
    }
   ],
   "source": [
    "#examine final df\n",
    "finaldf.head()"
   ]
  },
  {
   "cell_type": "code",
   "execution_count": 14,
   "id": "95b7aff5",
   "metadata": {},
   "outputs": [],
   "source": [
    "#export file to csv\n",
    "finaldf.to_csv('Doordash San Diego.csv', encoding = 'utf-8', sep=',')"
   ]
  },
  {
   "cell_type": "code",
   "execution_count": null,
   "id": "caa462c0",
   "metadata": {},
   "outputs": [],
   "source": []
  }
 ],
 "metadata": {
  "kernelspec": {
   "display_name": "Python 3",
   "language": "python",
   "name": "python3"
  },
  "language_info": {
   "codemirror_mode": {
    "name": "ipython",
    "version": 3
   },
   "file_extension": ".py",
   "mimetype": "text/x-python",
   "name": "python",
   "nbconvert_exporter": "python",
   "pygments_lexer": "ipython3",
   "version": "3.8.8"
  }
 },
 "nbformat": 4,
 "nbformat_minor": 5
}
